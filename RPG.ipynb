{
 "cells": [
  {
   "cell_type": "code",
   "execution_count": 5,
   "metadata": {},
   "outputs": [],
   "source": [
    "from abc import ABC, abstractmethod\n",
    "\n",
    "class Hero(ABC):\n",
    "    def __init__(self, name):\n",
    "        self.name = name\n",
    "        \n",
    "    def speak(self):\n",
    "        raise NotImplementedError(\"Debes implementar la funcion de hablar\")\n",
    "        \n",
    "    def show_stats(self):\n",
    "        raise NotImplementedError(\"Debes implementar la funcion de mostrar stats\")\n",
    "\n",
    "    def give_weapon(self, weapon):\n",
    "        raise NotImplementedError(\"Debes implementar la funcion de dar un arma\")\n",
    "\n",
    "    @abstractmethod\n",
    "    def heal(self, hp):\n",
    "        raise NotImplementedError()\n",
    "\n",
    "    @abstractmethod\n",
    "    def damage(self, hp):\n",
    "        raise NotImplementedError()\n",
    "\n",
    "    def defending(self, defending):\n",
    "        raise NotImplementedError()\n",
    "\n",
    "class Warrior(Hero):\n",
    "    \n",
    "    def __init__(self, name):\n",
    "        Hero.__init__(self, name)\n",
    "        self.stats = {}\n",
    "        self.stats['health'] = 100\n",
    "        self.stats['health_max'] = 100\n",
    "        self.stats['strength'] = 15\n",
    "        self.stats['defense'] = 9\n",
    "        self.stats['dex'] = 8\n",
    "        self.weapon = None\n",
    "\n",
    "        self.defending_flag = 0\n",
    "\n",
    "    def speak(self):\n",
    "        print(\"Soy un Guerrero y me llamo \" + self.name)\n",
    "        \n",
    "    def show_stats(self):\n",
    "        print(f\"Vida: {self.stats['health']}/{self.stats['health_max']}\\nFuerza: {self.stats['strength']}\\nDestreza: {self.stats['dex']}\\nArma: {self.weapon}\")\n",
    "\n",
    "    def give_weapon(self, weapon):\n",
    "        self.weapon = weapon\n",
    "\n",
    "    def heal(self, hp):\n",
    "        self.stats['health'] = min(self.stats['health'] + hp, self.stats['health_max'])\n",
    "\n",
    "    def damage(self, hp):\n",
    "        self.stats['health'] = max(self.stats['health'] - hp, 0)\n",
    "        return self.stats['health'] > 0\n",
    "\n",
    "    def defending(self, defending):\n",
    "        self.defending_flag = defending\n",
    "\n",
    "    \n",
    "\n",
    "class Archer(Hero):\n",
    "    \n",
    "    def __init__(self, name):\n",
    "        Hero.__init__(self, name)\n",
    "        self.stats = {}\n",
    "        self.stats['health'] = 80\n",
    "        self.stats['health_max'] = 80\n",
    "        self.stats['strength'] = 8\n",
    "        self.stats['defense'] = 7\n",
    "        self.stats['dex'] = 15\n",
    "        self.weapon = None\n",
    "        \n",
    "        self.defending_flag = 0\n",
    "    \n",
    "    def speak(self):\n",
    "        print(\"Soy un Arquero y me llamo \" + self.name)\n",
    "        \n",
    "    def show_stats(self):\n",
    "        print(f\"Vida: {self.stats['health']}/{self.stats['health_max']}\\nFuerza: {self.stats['strength']}\\nDestreza: {self.stats['dex']}\\nArma: {self.weapon}\")     \n",
    "\n",
    "    def give_weapon(self, weapon):\n",
    "        self.weapon = weapon\n",
    "\n",
    "    def heal(self, hp):\n",
    "        self.stats['health'] = min(self.stats['health'] + hp, self.stats['health_max'])\n",
    "\n",
    "    def damage(self, hp):\n",
    "        self.stats['health'] = max(self.stats['health'] - hp, 0)\n",
    "        return self.stats['health'] > 0\n",
    "\n",
    "    def defending(self, defending):\n",
    "        self.defending_flag = defending"
   ]
  },
  {
   "cell_type": "code",
   "execution_count": 2,
   "metadata": {},
   "outputs": [],
   "source": [
    "class Warrior(Hero):\n",
    "    \n",
    "    def __init__(self, name):\n",
    "        Hero.__init__(self, name)\n",
    "        self.health = 100\n",
    "        self.health_max = 100\n",
    "        self.strength = 15\n",
    "        self.dex = 7\n",
    "        self.weapon = \"\"\n",
    "        \n",
    "    def speak(self):\n",
    "        print(\"Soy un Guerrero y me llamo \" + self.name)\n",
    "        \n",
    "    def show_stats(self):\n",
    "        print(f\"Vida: {self.health}/{self.health_max}\\nFuerza: {self.strength}\\nDestreza: {self.dex}\\nArma: {self.weapon}\")\n",
    "    "
   ]
  },
  {
   "cell_type": "code",
   "execution_count": 3,
   "metadata": {},
   "outputs": [],
   "source": [
    "class Archer(Hero):\n",
    "    \n",
    "    def __init__(self, name):\n",
    "        Hero.__init__(self, name)\n",
    "        self.health = 80\n",
    "        self.health_max = 80\n",
    "        self.strength = 8\n",
    "        self.dex = 15\n",
    "        self.weapon = \"\"\n",
    "    \n",
    "    def speak(self):\n",
    "        print(\"Soy un Arquero y me llamo \" + self.name)\n",
    "        \n",
    "    def show_stats(self):\n",
    "        \n",
    "        print(f\"Vida: {self.health}/{self.health_max}\\nFuerza: {self.strength}\\nDestreza: {self.dex}\\nArma: {self.weapon}\")"
   ]
  },
  {
   "cell_type": "code",
   "execution_count": 4,
   "metadata": {},
   "outputs": [
    {
     "ename": "TypeError",
     "evalue": "Can't instantiate abstract class Warrior with abstract methods damage, heal",
     "output_type": "error",
     "traceback": [
      "\u001b[1;31m---------------------------------------------------------------------------\u001b[0m",
      "\u001b[1;31mTypeError\u001b[0m                                 Traceback (most recent call last)",
      "\u001b[1;32m<ipython-input-4-667c425fc9ac>\u001b[0m in \u001b[0;36m<module>\u001b[1;34m\u001b[0m\n\u001b[1;32m----> 1\u001b[1;33m \u001b[0mw\u001b[0m \u001b[1;33m=\u001b[0m \u001b[0mWarrior\u001b[0m\u001b[1;33m(\u001b[0m\u001b[1;34m\"Dan\"\u001b[0m\u001b[1;33m)\u001b[0m\u001b[1;33m\u001b[0m\u001b[1;33m\u001b[0m\u001b[0m\n\u001b[0m\u001b[0;32m      2\u001b[0m \u001b[0ma\u001b[0m \u001b[1;33m=\u001b[0m \u001b[0mArcher\u001b[0m\u001b[1;33m(\u001b[0m\u001b[1;34m\"Zet\"\u001b[0m\u001b[1;33m)\u001b[0m\u001b[1;33m\u001b[0m\u001b[1;33m\u001b[0m\u001b[0m\n",
      "\u001b[1;31mTypeError\u001b[0m: Can't instantiate abstract class Warrior with abstract methods damage, heal"
     ]
    }
   ],
   "source": [
    "w = Warrior(\"Dan\")\n",
    "a = Archer(\"Zet\")"
   ]
  },
  {
   "cell_type": "code",
   "execution_count": null,
   "metadata": {},
   "outputs": [],
   "source": [
    "w.speak()\n",
    "a.speak()"
   ]
  },
  {
   "cell_type": "code",
   "execution_count": null,
   "metadata": {},
   "outputs": [],
   "source": [
    "w.show_stats()\n",
    "a.show_stats()"
   ]
  },
  {
   "cell_type": "code",
   "execution_count": 18,
   "metadata": {},
   "outputs": [],
   "source": [
    "import random\n",
    "\n",
    "class Weapon():\n",
    "    def __init__(self, name):\n",
    "        self.name = name\n",
    "    \n",
    "    def show_stats(self):\n",
    "        raise NotImplementedError(\"Hay que definir la muestra de stats del arma\")\n",
    "\n",
    "class Sword(Weapon):\n",
    "    \n",
    "    def __init__(self, name, damage_min, damage_max):\n",
    "        Weapon.__init__(self, name)\n",
    "        self.damage_min = damage_min\n",
    "        self.damage_max = damage_max\n",
    "\n",
    "    def __str__(self):\n",
    "        return f\"Espada {self.name}: {self.damage_min} - {self.damage_max}\"\n",
    "        \n",
    "    def show_stats(self):\n",
    "        print(f\"Espada {self.name}: {self.damage_min} - {self.damage_max}\")\n",
    "              \n",
    "    def attack(self):\n",
    "        return random.randint(self.damage_min,self.damage_max)\n",
    "\n",
    "class Mace(Weapon):\n",
    "    \n",
    "    def __init__(self, name, damage_min, damage_max):\n",
    "        Weapon.__init__(self, name)\n",
    "        self.damage_min = damage_min\n",
    "        self.damage_max = damage_max\n",
    "\n",
    "    def __str__(self):\n",
    "        return f\"Maza {self.name}: {self.damage_min} - {self.damage_max}\"\n",
    "        \n",
    "    def show_stats(self):\n",
    "        print(f\"Maza {self.name}: {self.damage_min} - {self.damage_max}\")\n",
    "              \n",
    "    def attack(self):\n",
    "        return random.randint(self.damage_min,self.damage_max)\n",
    "\n",
    "class Bow(Weapon):\n",
    "    \n",
    "    def __init__(self, name, damage_min, damage_max):\n",
    "        Weapon.__init__(self, name)\n",
    "        self.damage_min = damage_min\n",
    "        self.damage_max = damage_max\n",
    "\n",
    "    def __str__(self):\n",
    "        return f\"Arco {self.name}: {self.damage_min} - {self.damage_max}\"\n",
    "        \n",
    "    def show_stats(self):\n",
    "        print(f\"Arco {self.name}: {self.damage_min} - {self.damage_max}\")\n",
    "              \n",
    "    def attack(self):\n",
    "        return random.randint(self.damage_min,self.damage_max)\n",
    "\n",
    "class Crossbow(Weapon):\n",
    "    \n",
    "    def __init__(self, name, damage_min, damage_max):\n",
    "        Weapon.__init__(self, name)\n",
    "        self.damage_min = damage_min\n",
    "        self.damage_max = damage_max\n",
    "\n",
    "    def __str__(self):\n",
    "        return f\"Ballesta {self.name}: {self.damage_min} - {self.damage_max}\"\n",
    "        \n",
    "    def show_stats(self):\n",
    "        print(f\"Ballesta {self.name}: {self.damage_min} - {self.damage_max}\")\n",
    "              \n",
    "    def attack(self):\n",
    "        return random.randint(self.damage_min,self.damage_max)"
   ]
  },
  {
   "cell_type": "code",
   "execution_count": null,
   "metadata": {},
   "outputs": [],
   "source": [
    "class Sword(Weapon):\n",
    "    \n",
    "    def __init__(self, name, power):\n",
    "        Weapon.__init__(self, name)\n",
    "        self.power = power\n",
    "        \n",
    "    def show_stats(self):\n",
    "        print(f\"Espada {self.name}: {self.power}\")\n",
    "              \n",
    "    def attack(self):\n",
    "        return self.power\n",
    "    "
   ]
  },
  {
   "cell_type": "code",
   "execution_count": null,
   "metadata": {},
   "outputs": [],
   "source": [
    "class Mace(Weapon):\n",
    "    \n",
    "    def __init__(self, name, power):\n",
    "        Weapon.__init__(self, name)\n",
    "        self.power = power\n",
    "        \n",
    "    def show_stats(self):\n",
    "        print(f\"Maza {self.name}: {self.power}\")\n",
    "              \n",
    "    def attack(self):\n",
    "        return self.power"
   ]
  },
  {
   "cell_type": "code",
   "execution_count": null,
   "metadata": {},
   "outputs": [],
   "source": [
    "class Bow(Weapon):\n",
    "    \n",
    "    def __init__(self, name, power):\n",
    "        Weapon.__init__(self, name)\n",
    "        self.power = power\n",
    "        \n",
    "    def show_stats(self):\n",
    "        print(f\"Arco {self.name}: {self.power}\")\n",
    "              \n",
    "    def attack(self):\n",
    "        return self.power"
   ]
  },
  {
   "cell_type": "code",
   "execution_count": null,
   "metadata": {},
   "outputs": [],
   "source": [
    "class Crossbow(Weapon):\n",
    "    \n",
    "    def __init__(self, name, power):\n",
    "        Weapon.__init__(self, name)\n",
    "        self.power = power\n",
    "        \n",
    "    def show_stats(self):\n",
    "        print(f\"Ballesta {self.name}: {self.power}\")\n",
    "              \n",
    "    def attack(self):\n",
    "        return self.power"
   ]
  },
  {
   "cell_type": "code",
   "execution_count": 19,
   "metadata": {},
   "outputs": [],
   "source": [
    "espada = Sword(\"Inicial\", 10,15)"
   ]
  },
  {
   "cell_type": "code",
   "execution_count": 20,
   "metadata": {},
   "outputs": [
    {
     "name": "stdout",
     "output_type": "stream",
     "text": [
      "Espada Inicial: 10 - 15\n"
     ]
    }
   ],
   "source": [
    "for arma in [espada]:\n",
    "    arma.show_stats()"
   ]
  },
  {
   "cell_type": "code",
   "execution_count": 21,
   "metadata": {},
   "outputs": [],
   "source": [
    "import math\n",
    "def myCeil(num, dec):\n",
    "    return math.ceil(num * pow(10, dec)) / pow(10, dec)"
   ]
  },
  {
   "cell_type": "code",
   "execution_count": 22,
   "metadata": {},
   "outputs": [
    {
     "data": {
      "text/plain": [
       "4.212"
      ]
     },
     "execution_count": 22,
     "metadata": {},
     "output_type": "execute_result"
    }
   ],
   "source": [
    "myCeil(4.2111, 3)"
   ]
  },
  {
   "cell_type": "code",
   "execution_count": 23,
   "metadata": {},
   "outputs": [
    {
     "data": {
      "text/plain": [
       "4"
      ]
     },
     "execution_count": 23,
     "metadata": {},
     "output_type": "execute_result"
    }
   ],
   "source": [
    "import math\n",
    "math.floor(4.211)"
   ]
  },
  {
   "cell_type": "code",
   "execution_count": null,
   "metadata": {},
   "outputs": [],
   "source": []
  },
  {
   "cell_type": "code",
   "execution_count": 24,
   "metadata": {},
   "outputs": [
    {
     "name": "stdout",
     "output_type": "stream",
     "text": [
      "Vida: 100/100\n",
      "Fuerza: 15\n",
      "Destreza: 8\n",
      "Arma: None\n"
     ]
    }
   ],
   "source": [
    "hero = Warrior(\"Dan\")\n",
    "hero.show_stats()\n"
   ]
  },
  {
   "cell_type": "code",
   "execution_count": 25,
   "metadata": {},
   "outputs": [
    {
     "name": "stdout",
     "output_type": "stream",
     "text": [
      "Vida: 100/100\n",
      "Fuerza: 15\n",
      "Destreza: 8\n",
      "Arma: Espada Inicial: 10 - 15\n"
     ]
    }
   ],
   "source": [
    "hero.give_weapon(espada)\n",
    "hero.show_stats()"
   ]
  },
  {
   "cell_type": "code",
   "execution_count": 35,
   "metadata": {},
   "outputs": [
    {
     "name": "stdout",
     "output_type": "stream",
     "text": [
      "11\n",
      "10\n"
     ]
    }
   ],
   "source": [
    "for x in range(1, 3):\n",
    "    print(hero.weapon.attack())"
   ]
  },
  {
   "cell_type": "code",
   "execution_count": 39,
   "metadata": {},
   "outputs": [],
   "source": [
    "def test():\n",
    "    return (1, True)"
   ]
  },
  {
   "cell_type": "code",
   "execution_count": 40,
   "metadata": {},
   "outputs": [
    {
     "name": "stdout",
     "output_type": "stream",
     "text": [
      "1\n",
      "True\n"
     ]
    }
   ],
   "source": [
    "a, b = test()\n",
    "print(a)\n",
    "print(b)"
   ]
  },
  {
   "cell_type": "code",
   "execution_count": null,
   "metadata": {},
   "outputs": [],
   "source": []
  },
  {
   "cell_type": "code",
   "execution_count": null,
   "metadata": {},
   "outputs": [],
   "source": []
  }
 ],
 "metadata": {
  "kernelspec": {
   "display_name": "Python 3",
   "language": "python",
   "name": "python3"
  },
  "language_info": {
   "codemirror_mode": {
    "name": "ipython",
    "version": 3
   },
   "file_extension": ".py",
   "mimetype": "text/x-python",
   "name": "python",
   "nbconvert_exporter": "python",
   "pygments_lexer": "ipython3",
   "version": "3.10.0"
  }
 },
 "nbformat": 4,
 "nbformat_minor": 2
}
